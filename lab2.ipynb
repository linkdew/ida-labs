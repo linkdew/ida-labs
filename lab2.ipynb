{
 "cells": [
  {
   "cell_type": "markdown",
   "metadata": {},
   "source": [
    "### Лабораторна робота #2, Людомирський Юрій, КА-96, v23\n",
    "#### Загальна постановка задачі.\n",
    "1. Побудувати моделi класифiкацiї або регресiї згiдно з варiантом.\n",
    "---\n",
    "2. Виконати прогнози на основi побудованих моделей.\n",
    "---\n",
    "3. Для кожної з моделей оцiнити, чи має мiсце перенавчання.\n",
    "---\n",
    "4. Розрахувати додатковi результати моделей, наприклад, апостерiорнi iмовiрностi, опорнi вектори або iншi (згiдно з варiантом).\n",
    "---\n",
    "5. В задачах класифiкацiї побудувати границi рiшень графiчно для кожної з моделей.\n",
    "---\n",
    "6. В задачах класифiкацiї розрахувати значення наступних критерiїв якостi, для кожної моделi окремо на навчальнiй та перевiрочнiй множинах (confusion matrix, precision, recall, f1 score, PR curve, ROC, AUC).\n",
    "---\n",
    "7. В задачах регресiї розрахувати критерiї якостi для кожної моделi окремо на навчальнiй та перевiрочнiй множинах (R^2, RMSE, MAE, MAPE).\n",
    "---\n",
    "8. Виконати решiтчастий пошук (grid search) для пiдбору гiперпараметрiв моделей.\n",
    "---\n",
    "9. Зробити висновки про якiсть роботи моделей на дослiджених даних. На основi критерiїв якостi вибрати найкращу модель.\n",
    "---\n",
    "10. Навчити моделi на пiдмножинах навчальних даних. Оцiнити, наскiльки розмiр навчальної множини впливає на якiсть моделi.\n",
    "---\n",
    "11. Кожен варiант мiстить два набори даних. Дослiдити обидва набори за наведеними вище етапами.\n",
    "#### Завдання згідно з варіантом.\n",
    "1. Побудувати просту логiстичну регресiю, використовуючи sklearn.linear_model.LogisticRegression.\n",
    "---\n",
    "2. Побудувати полiномiальну логiстичну регресiю (multinomial logistic regression), встановивши гiперпараметри multi_class = \"multinomial\" та solver = \"lbfgs\".\n",
    "---\n",
    "3. Для наведених моделей побудувати варiанти з i без регуляризацiї.\n",
    "---\n",
    "4. Для кожної моделi розрахувати апостерiорнi iмовiрностi для тестового прикладу, використовуючи метод predict_proba.\n",
    "#### Початкові дані.\n",
    "1. sklearn.datasets.load_iris\n",
    "2. sklearn.datasets.samples_generator.make_circles"
   ]
  },
  {
   "cell_type": "markdown",
   "metadata": {},
   "source": [
    "### Imports"
   ]
  },
  {
   "cell_type": "code",
   "execution_count": 1,
   "metadata": {
    "pycharm": {
     "name": "#%%\n"
    }
   },
   "outputs": [],
   "source": [
    "from sklearn.datasets import load_iris, make_circles\n",
    "from sklearn.linear_model import LogisticRegression\n",
    "\n",
    "from sklearn.preprocessing import label_binarize\n",
    "from sklearn.decomposition import PCA\n",
    "\n",
    "from sklearn.model_selection import train_test_split\n",
    "from sklearn.model_selection import learning_curve\n",
    "from sklearn.model_selection import StratifiedKFold\n",
    "from sklearn.model_selection import GridSearchCV\n",
    "\n",
    "from sklearn.naive_bayes import GaussianNB\n",
    "\n",
    "from matplotlib import pyplot as plt\n",
    "import seaborn as sns\n",
    "\n",
    "from itertools import cycle\n",
    "import numpy as np\n",
    "\n",
    "from sklearn.metrics import accuracy_score, precision_score, recall_score, f1_score, average_precision_score\n",
    "from sklearn.metrics import roc_curve, precision_recall_curve, auc, confusion_matrix\n",
    "from sklearn.metrics import RocCurveDisplay, PrecisionRecallDisplay"
   ]
  },
  {
   "cell_type": "markdown",
   "metadata": {},
   "source": [
    "#### Завантаження датасету iris, train-test split та побудова моделі."
   ]
  },
  {
   "cell_type": "code",
   "execution_count": 2,
   "metadata": {
    "pycharm": {
     "name": "#%%\n"
    }
   },
   "outputs": [],
   "source": [
    "data_pd = sns.load_dataset('iris')\n",
    "data_raw = load_iris(return_X_y=False)\n",
    "\n",
    "X, y = load_iris(return_X_y=True)\n",
    "X_train, X_test, y_train, y_test = train_test_split(X, y, test_size=0.2, random_state=42)\n",
    "\n",
    "clf = LogisticRegression(solver = \"lbfgs\", multi_class=\"multinomial\", penalty=\"l2\", C=0.021544346900318832, max_iter=2000).fit(X_train, y_train)"
   ]
  },
  {
   "cell_type": "markdown",
   "metadata": {},
   "source": [
    "Матриця коефіцієнтів моделі"
   ]
  },
  {
   "cell_type": "code",
   "execution_count": 3,
   "metadata": {
    "pycharm": {
     "name": "#%%\n"
    }
   },
   "outputs": [
    {
     "data": {
      "text/plain": [
       "array([[-0.16745111,  0.14250709, -0.56444207, -0.22902007],\n",
       "       [ 0.00514584, -0.15205594,  0.10188037, -0.01756493],\n",
       "       [ 0.16230527,  0.00954885,  0.4625617 ,  0.246585  ]])"
      ]
     },
     "execution_count": 3,
     "metadata": {},
     "output_type": "execute_result"
    }
   ],
   "source": [
    "clf.coef_"
   ]
  },
  {
   "cell_type": "markdown",
   "metadata": {
    "pycharm": {
     "name": "#%% md\n"
    }
   },
   "source": [
    "Зсув моделі"
   ]
  },
  {
   "cell_type": "code",
   "execution_count": 4,
   "metadata": {
    "pycharm": {
     "name": "#%%\n"
    }
   },
   "outputs": [
    {
     "data": {
      "text/plain": [
       "array([ 2.687625  ,  0.43237598, -3.12000098])"
      ]
     },
     "execution_count": 4,
     "metadata": {},
     "output_type": "execute_result"
    }
   ],
   "source": [
    "clf.intercept_"
   ]
  },
  {
   "cell_type": "markdown",
   "metadata": {},
   "source": [
    "Прогнози на основі побудованих моделей"
   ]
  },
  {
   "cell_type": "code",
   "execution_count": 5,
   "metadata": {
    "pycharm": {
     "name": "#%%\n"
    }
   },
   "outputs": [
    {
     "data": {
      "text/plain": [
       "array([0, 0, 1, 0, 0, 2, 1, 0, 0, 0, 2, 1, 2, 0, 0, 1, 2, 2, 1, 2, 1, 2,\n",
       "       1, 0, 2, 1, 0, 0, 0, 1, 2, 0, 0, 0, 1, 0, 1, 2, 0, 1, 2, 0, 2, 2,\n",
       "       1, 1, 2, 1, 0, 1, 2, 0, 0, 1, 2, 0, 2, 0, 0, 2, 1, 2, 2, 2, 2, 1,\n",
       "       0, 0, 1, 2, 0, 0, 0, 2, 2, 0, 2, 2, 0, 1, 1, 2, 2, 2, 0, 2, 1, 2,\n",
       "       1, 1, 1, 0, 1, 1, 0, 1, 2, 2, 0, 1, 2, 2, 0, 2, 0, 2, 2, 2, 1, 2,\n",
       "       1, 1, 2, 2, 0, 1, 1, 0, 1, 2])"
      ]
     },
     "execution_count": 5,
     "metadata": {},
     "output_type": "execute_result"
    }
   ],
   "source": [
    "clf.predict(X_train)"
   ]
  },
  {
   "cell_type": "code",
   "execution_count": 6,
   "metadata": {
    "pycharm": {
     "name": "#%%\n"
    }
   },
   "outputs": [
    {
     "data": {
      "text/plain": [
       "array([1, 0, 2, 1, 2, 0, 1, 2, 1, 1, 2, 0, 0, 0, 0, 2, 2, 1, 1, 2, 0, 2,\n",
       "       0, 2, 2, 2, 2, 2, 0, 0])"
      ]
     },
     "execution_count": 6,
     "metadata": {},
     "output_type": "execute_result"
    }
   ],
   "source": [
    "clf.predict(X_test)"
   ]
  },
  {
   "cell_type": "markdown",
   "metadata": {},
   "source": [
    "Крива навчання та висновок стосовно перенавчання"
   ]
  },
  {
   "cell_type": "code",
   "execution_count": 7,
   "metadata": {
    "pycharm": {
     "name": "#%%\n"
    }
   },
   "outputs": [],
   "source": [
    "def plot_learning_curve(estimator, X_lc, y_lc, cv, n_jobs=None, train_sizes=np.linspace(.1, 1.0, 10)):\n",
    "    axes = plt.axes()\n",
    "    axes.set_title(\"learning curve\")\n",
    "    axes.set_xlabel(\"samples\")\n",
    "    axes.set_ylabel(\"score\")\n",
    "    train_sizes, train_scores, test_scores, fit_times, _ = learning_curve(estimator,\n",
    "                                                                          X_lc,\n",
    "                                                                          y_lc,\n",
    "                                                                          cv=cv,\n",
    "                                                                          n_jobs=n_jobs,\n",
    "                                                                          train_sizes=train_sizes,\n",
    "                                                                          return_times=True)\n",
    "    train_scores_mean = np.mean(train_scores, axis=1)\n",
    "    test_scores_mean = np.mean(test_scores, axis=1)\n",
    "\n",
    "    axes.grid()\n",
    "    axes.plot(train_sizes, train_scores_mean, 'o-', color=\"yellow\", label=\"training score\")\n",
    "    axes.plot(train_sizes, test_scores_mean, 'o-', color=\"black\", label=\"cv score\")\n",
    "    axes.legend(loc=\"best\")\n",
    "\n",
    "    plt.show()"
   ]
  },
  {
   "cell_type": "code",
   "execution_count": 8,
   "metadata": {
    "pycharm": {
     "name": "#%%\n"
    }
   },
   "outputs": [
    {
     "data": {
      "image/png": "[encoded data removed]",
      "text/plain": [
       "<Figure size 432x288 with 1 Axes>"
      ]
     },
     "metadata": {
      "needs_background": "light"
     },
     "output_type": "display_data"
    }
   ],
   "source": [
    "plot_learning_curve(clf, X_train, y_train, cv = StratifiedKFold(n_splits=4))"
   ]
  },
  {
   "cell_type": "markdown",
   "metadata": {},
   "source": [
    "З рисунка видно, що перенавчання моделі недоцільне\n"
   ]
  },
  {
   "cell_type": "markdown",
   "metadata": {},
   "source": [
    "Апостерiорнi iмовiрностi"
   ]
  },
  {
   "cell_type": "code",
   "execution_count": 9,
   "metadata": {
    "pycharm": {
     "name": "#%%\n"
    }
   },
   "outputs": [
    {
     "data": {
      "text/plain": [
       "array([[0.12036377, 0.46815342, 0.41148281],\n",
       "       [0.72394322, 0.21922788, 0.0568289 ],\n",
       "       [0.00788133, 0.23424141, 0.75787726],\n",
       "       [0.13285057, 0.45987675, 0.40727268],\n",
       "       [0.08974793, 0.43923019, 0.47102188],\n",
       "       [0.73897327, 0.2137031 , 0.04732364],\n",
       "       [0.2725127 , 0.46331111, 0.26417618],\n",
       "       [0.05371754, 0.36171454, 0.58456792],\n",
       "       [0.11113877, 0.48942278, 0.39943844],\n",
       "       [0.21683028, 0.48396456, 0.29920516],\n",
       "       [0.06717256, 0.38469427, 0.54813317],\n",
       "       [0.76868492, 0.19798778, 0.0333273 ],\n",
       "       [0.77637022, 0.18608495, 0.03754483],\n",
       "       [0.75701552, 0.20589031, 0.03709416],\n",
       "       [0.77434324, 0.18504358, 0.04061318],\n",
       "       [0.11218002, 0.42419883, 0.46362115],\n",
       "       [0.03331537, 0.33657884, 0.63010579],\n",
       "       [0.22201077, 0.49713934, 0.28084989],\n",
       "       [0.14697818, 0.47694629, 0.37607553],\n",
       "       [0.03918197, 0.36119524, 0.59962279],\n",
       "       [0.75123896, 0.20924078, 0.03952026],\n",
       "       [0.08932954, 0.42489184, 0.48577862],\n",
       "       [0.74036192, 0.21359005, 0.04604804],\n",
       "       [0.04062027, 0.36661912, 0.59276062],\n",
       "       [0.01640301, 0.2383562 , 0.74524079],\n",
       "       [0.05101529, 0.3653334 , 0.58365131],\n",
       "       [0.0333497 , 0.37132625, 0.59532405],\n",
       "       [0.02810563, 0.30779302, 0.66410135],\n",
       "       [0.7596613 , 0.20411588, 0.03622282],\n",
       "       [0.74242017, 0.21667385, 0.04090599]])"
      ]
     },
     "execution_count": 9,
     "metadata": {},
     "output_type": "execute_result"
    }
   ],
   "source": [
    "clf.predict_proba(X_test)"
   ]
  },
  {
   "cell_type": "code",
   "execution_count": 10,
   "metadata": {
    "pycharm": {
     "name": "#%%\n"
    }
   },
   "outputs": [
    {
     "data": {
      "text/plain": [
       "array([[0.84089647, 0.13718797, 0.02191556],\n",
       "       [0.77594635, 0.17602488, 0.04802877],\n",
       "       [0.13142567, 0.44332471, 0.42524962],\n",
       "       [0.75751372, 0.20238071, 0.04010557],\n",
       "       [0.798996  , 0.17302602, 0.02797797],\n",
       "       [0.06923865, 0.43122949, 0.49953186],\n",
       "       [0.12892489, 0.43774361, 0.4333315 ],\n",
       "       [0.76113516, 0.19792143, 0.04094341],\n",
       "       [0.7855211 , 0.17925306, 0.03522584],\n",
       "       [0.79320356, 0.16922949, 0.03756694],\n",
       "       [0.07485424, 0.43097285, 0.4941729 ],\n",
       "       [0.14165142, 0.43223386, 0.42611472],\n",
       "       [0.1017776 , 0.42824408, 0.46997832],\n",
       "       [0.78911651, 0.17237871, 0.03850477],\n",
       "       [0.76352183, 0.19375756, 0.04272061],\n",
       "       [0.25604506, 0.49734528, 0.24660967],\n",
       "       [0.07721158, 0.43238302, 0.4904054 ],\n",
       "       [0.05201435, 0.37733689, 0.57064875],\n",
       "       [0.13180089, 0.45004609, 0.41815302],\n",
       "       [0.02085193, 0.25921905, 0.71992902],\n",
       "       [0.18398054, 0.47465902, 0.34136044],\n",
       "       [0.01244898, 0.2537175 , 0.73383352],\n",
       "       [0.14731368, 0.46210985, 0.39057647],\n",
       "       [0.77755819, 0.18592172, 0.03652009],\n",
       "       [0.01109518, 0.25537998, 0.73352484],\n",
       "       [0.20058728, 0.49035014, 0.30906258],\n",
       "       [0.76938643, 0.19276592, 0.03784765],\n",
       "       [0.78890881, 0.17716324, 0.03392795],\n",
       "       [0.71348633, 0.22733254, 0.05918113],\n",
       "       [0.28935681, 0.50768129, 0.2029619 ],\n",
       "       [0.08049217, 0.432919  , 0.48658883],\n",
       "       [0.71513904, 0.23333675, 0.05152421],\n",
       "       [0.72951614, 0.2269739 , 0.04350995],\n",
       "       [0.71137457, 0.23477139, 0.05385404],\n",
       "       [0.18072458, 0.48609001, 0.33318541],\n",
       "       [0.75989587, 0.20002397, 0.04008017],\n",
       "       [0.19236285, 0.47179676, 0.33584039],\n",
       "       [0.01211499, 0.21667813, 0.77120688],\n",
       "       [0.78060692, 0.18703755, 0.03235553],\n",
       "       [0.15549892, 0.4674705 , 0.37703058],\n",
       "       [0.07725982, 0.44312082, 0.47961936],\n",
       "       [0.79536048, 0.16580416, 0.03883536],\n",
       "       [0.09879659, 0.43210717, 0.46909623],\n",
       "       [0.07485424, 0.43097285, 0.4941729 ],\n",
       "       [0.18760855, 0.5146034 , 0.29778804],\n",
       "       [0.15354892, 0.46532603, 0.38112505],\n",
       "       [0.05271995, 0.35171446, 0.59556559],\n",
       "       [0.19473889, 0.50693373, 0.29832738],\n",
       "       [0.73597179, 0.2098726 , 0.05415561],\n",
       "       [0.33845709, 0.47578081, 0.1857621 ],\n",
       "       [0.0550151 , 0.40138965, 0.54359525],\n",
       "       [0.77163563, 0.19235308, 0.03601129],\n",
       "       [0.7916326 , 0.17788004, 0.03048737],\n",
       "       [0.2358528 , 0.50015433, 0.26399288],\n",
       "       [0.07394007, 0.40821835, 0.51784158],\n",
       "       [0.75234582, 0.20899313, 0.03866104],\n",
       "       [0.06461069, 0.40147828, 0.53391103],\n",
       "       [0.76350177, 0.19753416, 0.03896407],\n",
       "       [0.73544519, 0.21491232, 0.04964249],\n",
       "       [0.10497088, 0.42543885, 0.46959026],\n",
       "       [0.39164325, 0.44164534, 0.16671141],\n",
       "       [0.0326389 , 0.31828839, 0.64907271],\n",
       "       [0.0786932 , 0.44016158, 0.48114522],\n",
       "       [0.0538504 , 0.42215861, 0.523991  ],\n",
       "       [0.01766894, 0.27390467, 0.70842639],\n",
       "       [0.2021855 , 0.49620722, 0.30160728],\n",
       "       [0.773249  , 0.19552501, 0.03122599],\n",
       "       [0.81934993, 0.15851357, 0.0221365 ],\n",
       "       [0.0796234 , 0.47266974, 0.44770685],\n",
       "       [0.02790376, 0.31487091, 0.65722533],\n",
       "       [0.76317343, 0.20130306, 0.03552351],\n",
       "       [0.77311114, 0.18880893, 0.03807993],\n",
       "       [0.79010447, 0.18148334, 0.0284122 ],\n",
       "       [0.08520273, 0.45618587, 0.4586114 ],\n",
       "       [0.04174157, 0.33062769, 0.62763074],\n",
       "       [0.78551364, 0.18123752, 0.03324884],\n",
       "       [0.0413898 , 0.3530412 , 0.605569  ],\n",
       "       [0.02779759, 0.30234709, 0.66985532],\n",
       "       [0.78944027, 0.18004185, 0.03051788],\n",
       "       [0.11560846, 0.45546614, 0.4289254 ],\n",
       "       [0.10853053, 0.45085783, 0.44061164],\n",
       "       [0.09082218, 0.43613247, 0.47304535],\n",
       "       [0.0999052 , 0.42086086, 0.47923394],\n",
       "       [0.05253427, 0.35999537, 0.58747037],\n",
       "       [0.76598354, 0.1915643 , 0.04245217],\n",
       "       [0.044746  , 0.35273725, 0.60251676],\n",
       "       [0.17076651, 0.46193215, 0.36730134],\n",
       "       [0.05959697, 0.38696478, 0.55343826],\n",
       "       [0.28777844, 0.4774523 , 0.23476925],\n",
       "       [0.23017418, 0.48321706, 0.28660876],\n",
       "       [0.12686169, 0.45401085, 0.41912746],\n",
       "       [0.74843366, 0.21955012, 0.03201622],\n",
       "       [0.1149598 , 0.45224109, 0.43279911],\n",
       "       [0.16227257, 0.49423577, 0.34349166],\n",
       "       [0.76712831, 0.19134161, 0.04153008],\n",
       "       [0.2039947 , 0.4698965 , 0.3261088 ],\n",
       "       [0.01968842, 0.30155647, 0.6787551 ],\n",
       "       [0.03777423, 0.33123014, 0.63099563],\n",
       "       [0.76504578, 0.19231095, 0.04264327],\n",
       "       [0.34896623, 0.4681642 , 0.18286957],\n",
       "       [0.03252319, 0.3103565 , 0.65712031],\n",
       "       [0.03454066, 0.34685102, 0.61860832],\n",
       "       [0.79303867, 0.17415018, 0.03281115],\n",
       "       [0.03555503, 0.32963463, 0.63481033],\n",
       "       [0.7606624 , 0.20359221, 0.0357454 ],\n",
       "       [0.08310128, 0.41353714, 0.50336157],\n",
       "       [0.02165342, 0.3106563 , 0.66769028],\n",
       "       [0.04724922, 0.38196918, 0.5707816 ],\n",
       "       [0.1929562 , 0.47964872, 0.32739507],\n",
       "       [0.04977112, 0.37833101, 0.57189788],\n",
       "       [0.12643894, 0.4932848 , 0.38027625],\n",
       "       [0.14921367, 0.4643303 , 0.38645603],\n",
       "       [0.09061098, 0.43745901, 0.47193001],\n",
       "       [0.07998779, 0.41994409, 0.50006812],\n",
       "       [0.72033773, 0.2281537 , 0.05150856],\n",
       "       [0.19088372, 0.47564024, 0.33347604],\n",
       "       [0.14632375, 0.49167346, 0.36200279],\n",
       "       [0.80071108, 0.16319394, 0.03609498],\n",
       "       [0.19973115, 0.49076114, 0.30950771],\n",
       "       [0.02696534, 0.31621137, 0.65682328]])"
      ]
     },
     "execution_count": 10,
     "metadata": {},
     "output_type": "execute_result"
    }
   ],
   "source": [
    "clf.predict_proba(X_train)"
   ]
  },
  {
   "cell_type": "markdown",
   "metadata": {},
   "source": [
    "Критерії якості"
   ]
  },
  {
   "cell_type": "code",
   "execution_count": 11,
   "metadata": {
    "pycharm": {
     "name": "#%%\n"
    }
   },
   "outputs": [
    {
     "data": {
      "text/plain": [
       "array([[40,  0,  0],\n",
       "       [ 0, 34,  7],\n",
       "       [ 0,  2, 37]])"
      ]
     },
     "execution_count": 11,
     "metadata": {},
     "output_type": "execute_result"
    }
   ],
   "source": [
    "confusion_matrix(y_train, clf.predict(X_train))"
   ]
  },
  {
   "cell_type": "code",
   "execution_count": 12,
   "metadata": {
    "pycharm": {
     "name": "#%%\n"
    }
   },
   "outputs": [
    {
     "data": {
      "text/plain": [
       "array([[10,  0,  0],\n",
       "       [ 0,  7,  2],\n",
       "       [ 0,  0, 11]])"
      ]
     },
     "execution_count": 12,
     "metadata": {},
     "output_type": "execute_result"
    }
   ],
   "source": [
    "confusion_matrix(y_test, clf.predict(X_test))"
   ]
  },
  {
   "cell_type": "code",
   "execution_count": 13,
   "metadata": {
    "pycharm": {
     "name": "#%%\n"
    }
   },
   "outputs": [
    {
     "data": {
      "text/plain": [
       "array([1.        , 0.88311688, 0.89156627])"
      ]
     },
     "execution_count": 13,
     "metadata": {},
     "output_type": "execute_result"
    }
   ],
   "source": [
    "f1_score(y_train, clf.predict(X_train), average=None)"
   ]
  },
  {
   "cell_type": "code",
   "execution_count": 14,
   "metadata": {
    "pycharm": {
     "name": "#%%\n"
    }
   },
   "outputs": [
    {
     "data": {
      "text/plain": [
       "array([1.        , 0.875     , 0.91666667])"
      ]
     },
     "execution_count": 14,
     "metadata": {},
     "output_type": "execute_result"
    }
   ],
   "source": [
    "f1_score(y_test, clf.predict(X_test), average=None)"
   ]
  },
  {
   "cell_type": "code",
   "execution_count": 15,
   "metadata": {
    "pycharm": {
     "name": "#%%\n"
    }
   },
   "outputs": [
    {
     "data": {
      "text/plain": [
       "0.925"
      ]
     },
     "execution_count": 15,
     "metadata": {},
     "output_type": "execute_result"
    }
   ],
   "source": [
    "accuracy_score(y_train, clf.predict(X_train))"
   ]
  },
  {
   "cell_type": "code",
   "execution_count": 16,
   "metadata": {
    "pycharm": {
     "name": "#%%\n"
    }
   },
   "outputs": [
    {
     "data": {
      "text/plain": [
       "0.9333333333333333"
      ]
     },
     "execution_count": 16,
     "metadata": {},
     "output_type": "execute_result"
    }
   ],
   "source": [
    "accuracy_score(y_test, clf.predict(X_test))"
   ]
  },
  {
   "cell_type": "code",
   "execution_count": 17,
   "metadata": {
    "pycharm": {
     "name": "#%%\n"
    }
   },
   "outputs": [
    {
     "data": {
      "text/plain": [
       "array([1.        , 0.94444444, 0.84090909])"
      ]
     },
     "execution_count": 17,
     "metadata": {},
     "output_type": "execute_result"
    }
   ],
   "source": [
    "precision_score(y_train, clf.predict(X_train), average=None)"
   ]
  },
  {
   "cell_type": "code",
   "execution_count": 18,
   "metadata": {
    "pycharm": {
     "name": "#%%\n"
    }
   },
   "outputs": [
    {
     "data": {
      "text/plain": [
       "array([1.        , 1.        , 0.84615385])"
      ]
     },
     "execution_count": 18,
     "metadata": {},
     "output_type": "execute_result"
    }
   ],
   "source": [
    "precision_score(y_test, clf.predict(X_test), average=None)"
   ]
  },
  {
   "cell_type": "code",
   "execution_count": 19,
   "metadata": {
    "pycharm": {
     "name": "#%%\n"
    }
   },
   "outputs": [
    {
     "data": {
      "text/plain": [
       "array([1.        , 0.82926829, 0.94871795])"
      ]
     },
     "execution_count": 19,
     "metadata": {},
     "output_type": "execute_result"
    }
   ],
   "source": [
    "recall_score(y_train, clf.predict(X_train), average=None)"
   ]
  },
  {
   "cell_type": "code",
   "execution_count": 20,
   "metadata": {
    "pycharm": {
     "name": "#%%\n"
    }
   },
   "outputs": [
    {
     "data": {
      "text/plain": [
       "array([1.        , 0.77777778, 1.        ])"
      ]
     },
     "execution_count": 20,
     "metadata": {},
     "output_type": "execute_result"
    }
   ],
   "source": [
    "recall_score(y_test, clf.predict(X_test), average=None)"
   ]
  },
  {
   "cell_type": "markdown",
   "metadata": {},
   "source": [
    "Границi рiшень побудовано за допомогою PCA"
   ]
  },
  {
   "cell_type": "code",
   "execution_count": 21,
   "metadata": {
    "pycharm": {
     "name": "#%%\n"
    }
   },
   "outputs": [
    {
     "name": "stderr",
     "output_type": "stream",
     "text": [
      "/home/el/.local/lib/python3.8/site-packages/seaborn/_decorators.py:36: FutureWarning: Pass the following variables as keyword args: x, y. From version 0.12, the only valid positional argument will be `data`, and passing other arguments without an explicit keyword will result in an error or misinterpretation.\n",
      "  warnings.warn(\n"
     ]
    },
    {
     "data": {
      "text/plain": [
       "<seaborn.axisgrid.FacetGrid at 0x7f6dd0b2a640>"
      ]
     },
     "execution_count": 21,
     "metadata": {},
     "output_type": "execute_result"
    },
    {
     "data": {
      "image/png": "[encoded data removed]",
      "text/plain": [
       "<Figure size 444.75x360 with 1 Axes>"
      ]
     },
     "metadata": {
      "needs_background": "light"
     },
     "output_type": "display_data"
    }
   ],
   "source": [
    "model = PCA(n_components=2)\n",
    "model.fit(X)\n",
    "\n",
    "X_2D = model.transform(X)\n",
    "data_pd['PCA1'] = X_2D[:, 0]\n",
    "data_pd['PCA2'] = X_2D[:, 1]\n",
    "\n",
    "sns.lmplot(\"PCA1\", \"PCA2\", hue='species', data=data_pd, fit_reg=False)"
   ]
  },
  {
   "cell_type": "code",
   "execution_count": 22,
   "metadata": {
    "pycharm": {
     "name": "#%%\n"
    }
   },
   "outputs": [
    {
     "data": {
      "text/html": [
       "<div>\n",
       "<style scoped>\n",
       "    .dataframe tbody tr th:only-of-type {\n",
       "        vertical-align: middle;\n",
       "    }\n",
       "\n",
       "    .dataframe tbody tr th {\n",
       "        vertical-align: top;\n",
       "    }\n",
       "\n",
       "    .dataframe thead th {\n",
       "        text-align: right;\n",
       "    }\n",
       "</style>\n",
       "<table border=\"1\" class=\"dataframe\">\n",
       "  <thead>\n",
       "    <tr style=\"text-align: right;\">\n",
       "      <th></th>\n",
       "      <th>sepal_length</th>\n",
       "      <th>sepal_width</th>\n",
       "      <th>petal_length</th>\n",
       "      <th>petal_width</th>\n",
       "      <th>species</th>\n",
       "      <th>PCA1</th>\n",
       "      <th>PCA2</th>\n",
       "    </tr>\n",
       "  </thead>\n",
       "  <tbody>\n",
       "    <tr>\n",
       "      <th>0</th>\n",
       "      <td>5.1</td>\n",
       "      <td>3.5</td>\n",
       "      <td>1.4</td>\n",
       "      <td>0.2</td>\n",
       "      <td>setosa</td>\n",
       "      <td>-2.684126</td>\n",
       "      <td>0.319397</td>\n",
       "    </tr>\n",
       "    <tr>\n",
       "      <th>1</th>\n",
       "      <td>4.9</td>\n",
       "      <td>3.0</td>\n",
       "      <td>1.4</td>\n",
       "      <td>0.2</td>\n",
       "      <td>setosa</td>\n",
       "      <td>-2.714142</td>\n",
       "      <td>-0.177001</td>\n",
       "    </tr>\n",
       "    <tr>\n",
       "      <th>2</th>\n",
       "      <td>4.7</td>\n",
       "      <td>3.2</td>\n",
       "      <td>1.3</td>\n",
       "      <td>0.2</td>\n",
       "      <td>setosa</td>\n",
       "      <td>-2.888991</td>\n",
       "      <td>-0.144949</td>\n",
       "    </tr>\n",
       "    <tr>\n",
       "      <th>3</th>\n",
       "      <td>4.6</td>\n",
       "      <td>3.1</td>\n",
       "      <td>1.5</td>\n",
       "      <td>0.2</td>\n",
       "      <td>setosa</td>\n",
       "      <td>-2.745343</td>\n",
       "      <td>-0.318299</td>\n",
       "    </tr>\n",
       "    <tr>\n",
       "      <th>4</th>\n",
       "      <td>5.0</td>\n",
       "      <td>3.6</td>\n",
       "      <td>1.4</td>\n",
       "      <td>0.2</td>\n",
       "      <td>setosa</td>\n",
       "      <td>-2.728717</td>\n",
       "      <td>0.326755</td>\n",
       "    </tr>\n",
       "    <tr>\n",
       "      <th>...</th>\n",
       "      <td>...</td>\n",
       "      <td>...</td>\n",
       "      <td>...</td>\n",
       "      <td>...</td>\n",
       "      <td>...</td>\n",
       "      <td>...</td>\n",
       "      <td>...</td>\n",
       "    </tr>\n",
       "    <tr>\n",
       "      <th>145</th>\n",
       "      <td>6.7</td>\n",
       "      <td>3.0</td>\n",
       "      <td>5.2</td>\n",
       "      <td>2.3</td>\n",
       "      <td>virginica</td>\n",
       "      <td>1.944110</td>\n",
       "      <td>0.187532</td>\n",
       "    </tr>\n",
       "    <tr>\n",
       "      <th>146</th>\n",
       "      <td>6.3</td>\n",
       "      <td>2.5</td>\n",
       "      <td>5.0</td>\n",
       "      <td>1.9</td>\n",
       "      <td>virginica</td>\n",
       "      <td>1.527167</td>\n",
       "      <td>-0.375317</td>\n",
       "    </tr>\n",
       "    <tr>\n",
       "      <th>147</th>\n",
       "      <td>6.5</td>\n",
       "      <td>3.0</td>\n",
       "      <td>5.2</td>\n",
       "      <td>2.0</td>\n",
       "      <td>virginica</td>\n",
       "      <td>1.764346</td>\n",
       "      <td>0.078859</td>\n",
       "    </tr>\n",
       "    <tr>\n",
       "      <th>148</th>\n",
       "      <td>6.2</td>\n",
       "      <td>3.4</td>\n",
       "      <td>5.4</td>\n",
       "      <td>2.3</td>\n",
       "      <td>virginica</td>\n",
       "      <td>1.900942</td>\n",
       "      <td>0.116628</td>\n",
       "    </tr>\n",
       "    <tr>\n",
       "      <th>149</th>\n",
       "      <td>5.9</td>\n",
       "      <td>3.0</td>\n",
       "      <td>5.1</td>\n",
       "      <td>1.8</td>\n",
       "      <td>virginica</td>\n",
       "      <td>1.390189</td>\n",
       "      <td>-0.282661</td>\n",
       "    </tr>\n",
       "  </tbody>\n",
       "</table>\n",
       "<p>150 rows × 7 columns</p>\n",
       "</div>"
      ],
      "text/plain": [
       "     sepal_length  sepal_width  petal_length  petal_width    species  \\\n",
       "0             5.1          3.5           1.4          0.2     setosa   \n",
       "1             4.9          3.0           1.4          0.2     setosa   \n",
       "2             4.7          3.2           1.3          0.2     setosa   \n",
       "3             4.6          3.1           1.5          0.2     setosa   \n",
       "4             5.0          3.6           1.4          0.2     setosa   \n",
       "..            ...          ...           ...          ...        ...   \n",
       "145           6.7          3.0           5.2          2.3  virginica   \n",
       "146           6.3          2.5           5.0          1.9  virginica   \n",
       "147           6.5          3.0           5.2          2.0  virginica   \n",
       "148           6.2          3.4           5.4          2.3  virginica   \n",
       "149           5.9          3.0           5.1          1.8  virginica   \n",
       "\n",
       "         PCA1      PCA2  \n",
       "0   -2.684126  0.319397  \n",
       "1   -2.714142 -0.177001  \n",
       "2   -2.888991 -0.144949  \n",
       "3   -2.745343 -0.318299  \n",
       "4   -2.728717  0.326755  \n",
       "..        ...       ...  \n",
       "145  1.944110  0.187532  \n",
       "146  1.527167 -0.375317  \n",
       "147  1.764346  0.078859  \n",
       "148  1.900942  0.116628  \n",
       "149  1.390189 -0.282661  \n",
       "\n",
       "[150 rows x 7 columns]"
      ]
     },
     "execution_count": 22,
     "metadata": {},
     "output_type": "execute_result"
    }
   ],
   "source": [
    "data_pd"
   ]
  },
  {
   "cell_type": "code",
   "execution_count": 23,
   "metadata": {
    "pycharm": {
     "name": "#%%\n"
    }
   },
   "outputs": [
    {
     "data": {
      "text/html": [
       "<div>\n",
       "<style scoped>\n",
       "    .dataframe tbody tr th:only-of-type {\n",
       "        vertical-align: middle;\n",
       "    }\n",
       "\n",
       "    .dataframe tbody tr th {\n",
       "        vertical-align: top;\n",
       "    }\n",
       "\n",
       "    .dataframe thead th {\n",
       "        text-align: right;\n",
       "    }\n",
       "</style>\n",
       "<table border=\"1\" class=\"dataframe\">\n",
       "  <thead>\n",
       "    <tr style=\"text-align: right;\">\n",
       "      <th></th>\n",
       "      <th>PCA1</th>\n",
       "      <th>PCA2</th>\n",
       "    </tr>\n",
       "  </thead>\n",
       "  <tbody>\n",
       "    <tr>\n",
       "      <th>0</th>\n",
       "      <td>-2.684126</td>\n",
       "      <td>0.319397</td>\n",
       "    </tr>\n",
       "    <tr>\n",
       "      <th>1</th>\n",
       "      <td>-2.714142</td>\n",
       "      <td>-0.177001</td>\n",
       "    </tr>\n",
       "    <tr>\n",
       "      <th>2</th>\n",
       "      <td>-2.888991</td>\n",
       "      <td>-0.144949</td>\n",
       "    </tr>\n",
       "    <tr>\n",
       "      <th>3</th>\n",
       "      <td>-2.745343</td>\n",
       "      <td>-0.318299</td>\n",
       "    </tr>\n",
       "    <tr>\n",
       "      <th>4</th>\n",
       "      <td>-2.728717</td>\n",
       "      <td>0.326755</td>\n",
       "    </tr>\n",
       "    <tr>\n",
       "      <th>...</th>\n",
       "      <td>...</td>\n",
       "      <td>...</td>\n",
       "    </tr>\n",
       "    <tr>\n",
       "      <th>145</th>\n",
       "      <td>1.944110</td>\n",
       "      <td>0.187532</td>\n",
       "    </tr>\n",
       "    <tr>\n",
       "      <th>146</th>\n",
       "      <td>1.527167</td>\n",
       "      <td>-0.375317</td>\n",
       "    </tr>\n",
       "    <tr>\n",
       "      <th>147</th>\n",
       "      <td>1.764346</td>\n",
       "      <td>0.078859</td>\n",
       "    </tr>\n",
       "    <tr>\n",
       "      <th>148</th>\n",
       "      <td>1.900942</td>\n",
       "      <td>0.116628</td>\n",
       "    </tr>\n",
       "    <tr>\n",
       "      <th>149</th>\n",
       "      <td>1.390189</td>\n",
       "      <td>-0.282661</td>\n",
       "    </tr>\n",
       "  </tbody>\n",
       "</table>\n",
       "<p>150 rows × 2 columns</p>\n",
       "</div>"
      ],
      "text/plain": [
       "         PCA1      PCA2\n",
       "0   -2.684126  0.319397\n",
       "1   -2.714142 -0.177001\n",
       "2   -2.888991 -0.144949\n",
       "3   -2.745343 -0.318299\n",
       "4   -2.728717  0.326755\n",
       "..        ...       ...\n",
       "145  1.944110  0.187532\n",
       "146  1.527167 -0.375317\n",
       "147  1.764346  0.078859\n",
       "148  1.900942  0.116628\n",
       "149  1.390189 -0.282661\n",
       "\n",
       "[150 rows x 2 columns]"
      ]
     },
     "execution_count": 23,
     "metadata": {},
     "output_type": "execute_result"
    }
   ],
   "source": [
    "pca_columns = data_pd[[\"PCA1\", \"PCA2\"]]\n",
    "pca_columns"
   ]
  },
  {
   "cell_type": "code",
   "execution_count": 24,
   "metadata": {
    "pycharm": {
     "name": "#%%\n"
    }
   },
   "outputs": [
    {
     "name": "stderr",
     "output_type": "stream",
     "text": [
      "/home/el/.local/lib/python3.8/site-packages/sklearn/base.py:445: UserWarning: X does not have valid feature names, but LogisticRegression was fitted with feature names\n",
      "  warnings.warn(\n"
     ]
    },
    {
     "data": {
      "image/png": "[encoded data removed]",
      "text/plain": [
       "<Figure size 648x468 with 1 Axes>"
      ]
     },
     "metadata": {},
     "output_type": "display_data"
    }
   ],
   "source": [
    "def decision_boundaries(X_PCA, target):\n",
    "    pca_clf = LogisticRegression().fit(X_PCA, target)\n",
    "    h = 0.01\n",
    "\n",
    "    x_min, x_max = X_PCA.iloc[:, 0].min() - 0.5, X_PCA.iloc[:, 0].max() + 0.5\n",
    "    y_min, y_max = X_PCA.iloc[:, 1].min() - 0.5, X_PCA.iloc[:, 1].max() + 0.5\n",
    "\n",
    "    xx, yy = np.meshgrid(np.arange(x_min, x_max, h), np.arange(y_min, y_max, h))\n",
    "    Z = pca_clf.predict(np.c_[xx.ravel(), yy.ravel()])\n",
    "\n",
    "    Z = Z.reshape(xx.shape)\n",
    "    plt.figure(1, figsize=(9, 6.5))\n",
    "    plt.pcolormesh(xx, yy, Z, cmap=\"Blues\")\n",
    "\n",
    "    plt.scatter(X_PCA.iloc[:, 0], X_PCA.iloc[:, 1], c=target, edgecolors=\"k\", cmap=\"Blues\")\n",
    "    plt.xlabel(\"PCA1\")\n",
    "    plt.ylabel(\"PCA2\")\n",
    "\n",
    "    plt.grid()\n",
    "\n",
    "    plt.xlim(xx.min(), xx.max())\n",
    "    plt.ylim(yy.min(), yy.max())\n",
    "    plt.xticks(())\n",
    "    plt.yticks(())\n",
    "    plt.show()\n",
    "\n",
    "decision_boundaries(pca_columns, y)"
   ]
  },
  {
   "cell_type": "markdown",
   "metadata": {},
   "source": [
    "PR-curve"
   ]
  },
  {
   "cell_type": "code",
   "execution_count": 25,
   "metadata": {
    "pycharm": {
     "name": "#%%\n"
    }
   },
   "outputs": [],
   "source": [
    "def pr_curve(estimator, X, y):\n",
    "    Y = label_binarize(y, classes = np.unique(y))\n",
    "    n_classes = Y.shape[1]\n",
    "    y_score = estimator.decision_function(X)\n",
    "\n",
    "    precision = dict()\n",
    "    recall = dict()\n",
    "    average_precision = dict()\n",
    "    for i in range(n_classes):\n",
    "        precision[i], recall[i], _ = precision_recall_curve(Y[:, i], y_score[:, i])\n",
    "        average_precision[i] = average_precision_score(Y[:, i], y_score[:, i])\n",
    "\n",
    "    precision[\"micro\"], recall[\"micro\"], _ = precision_recall_curve(Y.ravel(), y_score.ravel())\n",
    "    average_precision[\"micro\"] = average_precision_score(Y, y_score, average=\"micro\")\n",
    "\n",
    "    color = cycle([\"aqua\", \"darkorange\", \"cornflowerblue\", \"red\"])\n",
    "\n",
    "    _, ax = plt.subplots(figsize=(7, 8))\n",
    "\n",
    "    display = PrecisionRecallDisplay(\n",
    "        recall=recall[\"micro\"],\n",
    "        precision=precision[\"micro\"],\n",
    "        average_precision=average_precision[\"micro\"],\n",
    "    )\n",
    "    display.plot(ax=ax, name=\"Micro-average precision-recall\", color='deeppink', linestyle=':', lw = 4)\n",
    "\n",
    "    for i, color in zip(range(n_classes), color):\n",
    "        display = PrecisionRecallDisplay(\n",
    "            recall=recall[i],\n",
    "            precision=precision[i],\n",
    "            average_precision=average_precision[i]\n",
    "        )\n",
    "        display.plot(ax=ax, name=f\"Precision-recall for class {i+1}\", color=color)\n",
    "\n",
    "\n",
    "    handles, labels = display.ax_.get_legend_handles_labels()\n",
    "\n",
    "    ax.set_xlim([0.0, 1.0])\n",
    "    ax.set_ylim([0.0, 1.05])\n",
    "    ax.legend(handles=handles, labels=labels, loc=\"best\")\n",
    "    ax.set_title(\"Precision-Recall curve to multi-class\")\n",
    "\n",
    "    plt.show()"
   ]
  },
  {
   "cell_type": "code",
   "execution_count": 26,
   "metadata": {
    "pycharm": {
     "name": "#%%\n"
    }
   },
   "outputs": [
    {
     "data": {
      "image/png": "[encoded data removed]",
      "text/plain": [
       "<Figure size 504x576 with 1 Axes>"
      ]
     },
     "metadata": {
      "needs_background": "light"
     },
     "output_type": "display_data"
    }
   ],
   "source": [
    "pr_curve(clf, X, y)"
   ]
  },
  {
   "cell_type": "markdown",
   "metadata": {},
   "source": [
    "ROC-curve"
   ]
  },
  {
   "cell_type": "code",
   "execution_count": 27,
   "metadata": {
    "pycharm": {
     "name": "#%%\n"
    }
   },
   "outputs": [],
   "source": [
    "def rc_curve(clf, X, y):    \n",
    "    Y = label_binarize(y, classes = np.unique(y)) \n",
    "    n_classes = Y.shape[1] \n",
    "    y_score = clf.predict_proba(X) \n",
    "    \n",
    "\n",
    "    fpr = dict()\n",
    "    tpr = dict()\n",
    "    roc_auc = dict()\n",
    "    for i in range(n_classes):\n",
    "        fpr[i], tpr[i], _ = roc_curve(Y[:, i], y_score[:, i])\n",
    "        roc_auc[i] = auc(fpr[i], tpr[i])\n",
    "\n",
    "\n",
    "\n",
    "    _, ax = plt.subplots(figsize=(7, 8))\n",
    "    \n",
    "    color = cycle([\"navy\", \"turquoise\", \"darkorange\", \"cornflowerblue\", \"teal\"])\n",
    "        \n",
    "    fpr[\"micro\"], tpr[\"micro\"], _ = roc_curve(Y.ravel(), y_score.ravel()) \n",
    "    roc_auc[\"micro\"] = auc(fpr[\"micro\"], tpr[\"micro\"])\n",
    "    RocCurveDisplay(\n",
    "            fpr=fpr[\"micro\"],\n",
    "            tpr=tpr[\"micro\"],\n",
    "            roc_auc=roc_auc[\"micro\"]\n",
    "        ).plot(ax=ax, name=f\"micro average ROC-CURVE\", color='deeppink', linestyle=':', linewidth=4) \n",
    "    \n",
    "    \n",
    "    for i, color in zip(range(n_classes), color):\n",
    "        display = RocCurveDisplay(\n",
    "            fpr=fpr[i],\n",
    "            tpr=tpr[i],\n",
    "            roc_auc=roc_auc[i]\n",
    "        )\n",
    "        display.plot(ax=ax, name=f\"ROC-CURVE for class {i+1}\", color=color)        \n",
    "        \n",
    "        \n",
    "\n",
    "    plt.plot([0, 1], [0, 1], 'k--', lw=2)\n",
    "    plt.xlim([0.0, 1.0])\n",
    "    plt.ylim([0.0, 1.05])\n",
    "    plt.xlabel('False Positive Rate')\n",
    "    plt.ylabel('True Positive Rate')\n",
    "    plt.title('Receiver operating characteristic to multi-class')\n",
    "    plt.legend(loc=\"lower right\")\n",
    "    plt.show()"
   ]
  },
  {
   "cell_type": "code",
   "execution_count": 28,
   "metadata": {
    "pycharm": {
     "name": "#%%\n"
    }
   },
   "outputs": [
    {
     "data": {
      "image/png": "[encoded data removed]",
      "text/plain": [
       "<Figure size 504x576 with 1 Axes>"
      ]
     },
     "metadata": {
      "needs_background": "light"
     },
     "output_type": "display_data"
    }
   ],
   "source": [
    "rc_curve(clf, X, y)"
   ]
  },
  {
   "cell_type": "code",
   "execution_count": 29,
   "metadata": {
    "pycharm": {
     "name": "#%%\n"
    }
   },
   "outputs": [
    {
     "data": {
      "text/plain": [
       "2.154434690031882"
      ]
     },
     "execution_count": 29,
     "metadata": {},
     "output_type": "execute_result"
    }
   ],
   "source": [
    "def grid_search_c(estimator, c_range=np.logspace(-3, 3, 10)):\n",
    "    searcher = GridSearchCV(estimator=estimator,\n",
    "                            param_grid={\"C\": c_range},\n",
    "                            scoring=\"accuracy\",\n",
    "                            cv=10).fit(X_train, y_train)\n",
    "\n",
    "    return searcher.best_params_[\"C\"]\n",
    "grid_search_c(clf)"
   ]
  },
  {
   "cell_type": "markdown",
   "metadata": {},
   "source": [
    "#### Генерування датасету make_circles та побудова моделі"
   ]
  },
  {
   "cell_type": "code",
   "execution_count": 30,
   "metadata": {
    "pycharm": {
     "name": "#%%\n"
    }
   },
   "outputs": [],
   "source": [
    "X, y = make_circles(500, factor=.1, noise=.1)\n",
    "X_train, X_test, y_train, y_test = train_test_split(X, y, test_size=0.2, random_state=42)\n",
    "\n",
    "clf_circles = LogisticRegression(solver=\"lbfgs\", penalty=\"l2\", C=0.001, multi_class=\"multinomial\").fit(X_train, y_train)"
   ]
  },
  {
   "cell_type": "markdown",
   "metadata": {},
   "source": [
    "Матриця коефіцієнтів моделі"
   ]
  },
  {
   "cell_type": "code",
   "execution_count": 31,
   "metadata": {
    "pycharm": {
     "name": "#%%\n"
    }
   },
   "outputs": [
    {
     "data": {
      "text/plain": [
       "array([[-0.00133291,  0.00040299]])"
      ]
     },
     "execution_count": 31,
     "metadata": {},
     "output_type": "execute_result"
    }
   ],
   "source": [
    "clf_circles.coef_"
   ]
  },
  {
   "cell_type": "markdown",
   "metadata": {},
   "source": [
    "Зсув моделі"
   ]
  },
  {
   "cell_type": "code",
   "execution_count": 32,
   "metadata": {
    "pycharm": {
     "name": "#%%\n"
    }
   },
   "outputs": [
    {
     "data": {
      "text/plain": [
       "array([0.02502241])"
      ]
     },
     "execution_count": 32,
     "metadata": {},
     "output_type": "execute_result"
    }
   ],
   "source": [
    "clf_circles.intercept_"
   ]
  },
  {
   "cell_type": "markdown",
   "metadata": {},
   "source": [
    "Прогнози на основi побудованих моделей"
   ]
  },
  {
   "cell_type": "code",
   "execution_count": 33,
   "metadata": {
    "pycharm": {
     "name": "#%%\n"
    }
   },
   "outputs": [
    {
     "data": {
      "text/plain": [
       "array([1, 1, 1, 1, 1, 1, 1, 1, 1, 1, 1, 1, 1, 1, 1, 1, 1, 1, 1, 1, 1, 1,\n",
       "       1, 1, 1, 1, 1, 1, 1, 1, 1, 1, 1, 1, 1, 1, 1, 1, 1, 1, 1, 1, 1, 1,\n",
       "       1, 1, 1, 1, 1, 1, 1, 1, 1, 1, 1, 1, 1, 1, 1, 1, 1, 1, 1, 1, 1, 1,\n",
       "       1, 1, 1, 1, 1, 1, 1, 1, 1, 1, 1, 1, 1, 1, 1, 1, 1, 1, 1, 1, 1, 1,\n",
       "       1, 1, 1, 1, 1, 1, 1, 1, 1, 1, 1, 1, 1, 1, 1, 1, 1, 1, 1, 1, 1, 1,\n",
       "       1, 1, 1, 1, 1, 1, 1, 1, 1, 1, 1, 1, 1, 1, 1, 1, 1, 1, 1, 1, 1, 1,\n",
       "       1, 1, 1, 1, 1, 1, 1, 1, 1, 1, 1, 1, 1, 1, 1, 1, 1, 1, 1, 1, 1, 1,\n",
       "       1, 1, 1, 1, 1, 1, 1, 1, 1, 1, 1, 1, 1, 1, 1, 1, 1, 1, 1, 1, 1, 1,\n",
       "       1, 1, 1, 1, 1, 1, 1, 1, 1, 1, 1, 1, 1, 1, 1, 1, 1, 1, 1, 1, 1, 1,\n",
       "       1, 1, 1, 1, 1, 1, 1, 1, 1, 1, 1, 1, 1, 1, 1, 1, 1, 1, 1, 1, 1, 1,\n",
       "       1, 1, 1, 1, 1, 1, 1, 1, 1, 1, 1, 1, 1, 1, 1, 1, 1, 1, 1, 1, 1, 1,\n",
       "       1, 1, 1, 1, 1, 1, 1, 1, 1, 1, 1, 1, 1, 1, 1, 1, 1, 1, 1, 1, 1, 1,\n",
       "       1, 1, 1, 1, 1, 1, 1, 1, 1, 1, 1, 1, 1, 1, 1, 1, 1, 1, 1, 1, 1, 1,\n",
       "       1, 1, 1, 1, 1, 1, 1, 1, 1, 1, 1, 1, 1, 1, 1, 1, 1, 1, 1, 1, 1, 1,\n",
       "       1, 1, 1, 1, 1, 1, 1, 1, 1, 1, 1, 1, 1, 1, 1, 1, 1, 1, 1, 1, 1, 1,\n",
       "       1, 1, 1, 1, 1, 1, 1, 1, 1, 1, 1, 1, 1, 1, 1, 1, 1, 1, 1, 1, 1, 1,\n",
       "       1, 1, 1, 1, 1, 1, 1, 1, 1, 1, 1, 1, 1, 1, 1, 1, 1, 1, 1, 1, 1, 1,\n",
       "       1, 1, 1, 1, 1, 1, 1, 1, 1, 1, 1, 1, 1, 1, 1, 1, 1, 1, 1, 1, 1, 1,\n",
       "       1, 1, 1, 1])"
      ]
     },
     "execution_count": 33,
     "metadata": {},
     "output_type": "execute_result"
    }
   ],
   "source": [
    "clf_circles.predict(X_train)"
   ]
  },
  {
   "cell_type": "code",
   "execution_count": 34,
   "metadata": {
    "pycharm": {
     "name": "#%%\n"
    }
   },
   "outputs": [
    {
     "data": {
      "text/plain": [
       "array([1, 1, 1, 1, 1, 1, 1, 1, 1, 1, 1, 1, 1, 1, 1, 1, 1, 1, 1, 1, 1, 1,\n",
       "       1, 1, 1, 1, 1, 1, 1, 1, 1, 1, 1, 1, 1, 1, 1, 1, 1, 1, 1, 1, 1, 1,\n",
       "       1, 1, 1, 1, 1, 1, 1, 1, 1, 1, 1, 1, 1, 1, 1, 1, 1, 1, 1, 1, 1, 1,\n",
       "       1, 1, 1, 1, 1, 1, 1, 1, 1, 1, 1, 1, 1, 1, 1, 1, 1, 1, 1, 1, 1, 1,\n",
       "       1, 1, 1, 1, 1, 1, 1, 1, 1, 1, 1, 1])"
      ]
     },
     "execution_count": 34,
     "metadata": {},
     "output_type": "execute_result"
    }
   ],
   "source": [
    "clf_circles.predict(X_test)"
   ]
  },
  {
   "cell_type": "markdown",
   "metadata": {},
   "source": [
    "Крива навчання та висновок стосовно перенавчання"
   ]
  },
  {
   "cell_type": "code",
   "execution_count": 35,
   "metadata": {
    "pycharm": {
     "name": "#%%\n"
    }
   },
   "outputs": [
    {
     "data": {
      "image/png": "[encoded data removed]",
      "text/plain": [
       "<Figure size 432x288 with 1 Axes>"
      ]
     },
     "metadata": {
      "needs_background": "light"
     },
     "output_type": "display_data"
    }
   ],
   "source": [
    "plot_learning_curve(clf_circles, X_train, y_train, cv = StratifiedKFold(n_splits=4))"
   ]
  },
  {
   "cell_type": "markdown",
   "metadata": {},
   "source": [
    "З рисунку видно, що перенавчання моделі недоцільне"
   ]
  },
  {
   "cell_type": "markdown",
   "metadata": {},
   "source": [
    "Апостерiорнi iмовiрностi"
   ]
  },
  {
   "cell_type": "code",
   "execution_count": 36,
   "metadata": {
    "pycharm": {
     "name": "#%%\n"
    }
   },
   "outputs": [
    {
     "data": {
      "text/plain": [
       "array([[0.48745726, 0.51254274],\n",
       "       [0.48679917, 0.51320083],\n",
       "       [0.48793539, 0.51206461],\n",
       "       [0.48679789, 0.51320211],\n",
       "       [0.4870072 , 0.5129928 ],\n",
       "       [0.48747274, 0.51252726],\n",
       "       [0.48707807, 0.51292193],\n",
       "       [0.48729374, 0.51270626],\n",
       "       [0.48695469, 0.51304531],\n",
       "       [0.48811303, 0.51188697],\n",
       "       [0.48758087, 0.51241913],\n",
       "       [0.48744587, 0.51255413],\n",
       "       [0.48687727, 0.51312273],\n",
       "       [0.48745316, 0.51254684],\n",
       "       [0.48720854, 0.51279146],\n",
       "       [0.48797493, 0.51202507],\n",
       "       [0.48811107, 0.51188893],\n",
       "       [0.48762213, 0.51237787],\n",
       "       [0.48753887, 0.51246113],\n",
       "       [0.48798486, 0.51201514],\n",
       "       [0.48742916, 0.51257084],\n",
       "       [0.48687157, 0.51312843],\n",
       "       [0.48755644, 0.51244356],\n",
       "       [0.48750508, 0.51249492],\n",
       "       [0.48679367, 0.51320633],\n",
       "       [0.48683639, 0.51316361],\n",
       "       [0.48747062, 0.51252938],\n",
       "       [0.48708013, 0.51291987],\n",
       "       [0.48753821, 0.51246179],\n",
       "       [0.48753113, 0.51246887],\n",
       "       [0.48810076, 0.51189924],\n",
       "       [0.48815841, 0.51184159],\n",
       "       [0.48681551, 0.51318449],\n",
       "       [0.48748303, 0.51251697],\n",
       "       [0.4883244 , 0.5116756 ],\n",
       "       [0.48760738, 0.51239262],\n",
       "       [0.48801275, 0.51198725],\n",
       "       [0.48802773, 0.51197227],\n",
       "       [0.48755989, 0.51244011],\n",
       "       [0.48744238, 0.51255762],\n",
       "       [0.48748316, 0.51251684],\n",
       "       [0.48749426, 0.51250574],\n",
       "       [0.48813964, 0.51186036],\n",
       "       [0.48759404, 0.51240596],\n",
       "       [0.48766068, 0.51233932],\n",
       "       [0.4868066 , 0.5131934 ],\n",
       "       [0.48826432, 0.51173568],\n",
       "       [0.48746697, 0.51253303],\n",
       "       [0.48711261, 0.51288739],\n",
       "       [0.48718571, 0.51281429],\n",
       "       [0.48768997, 0.51231003],\n",
       "       [0.48752237, 0.51247763],\n",
       "       [0.48765894, 0.51234106],\n",
       "       [0.48704493, 0.51295507],\n",
       "       [0.48751781, 0.51248219],\n",
       "       [0.48754633, 0.51245367],\n",
       "       [0.4870603 , 0.5129397 ],\n",
       "       [0.48779976, 0.51220024],\n",
       "       [0.48754169, 0.51245831],\n",
       "       [0.48751909, 0.51248091],\n",
       "       [0.48747212, 0.51252788],\n",
       "       [0.48759659, 0.51240341],\n",
       "       [0.48732536, 0.51267464],\n",
       "       [0.48690733, 0.51309267],\n",
       "       [0.48761249, 0.51238751],\n",
       "       [0.48830317, 0.51169683],\n",
       "       [0.48744444, 0.51255556],\n",
       "       [0.48815191, 0.51184809],\n",
       "       [0.48693581, 0.51306419],\n",
       "       [0.48805277, 0.51194723],\n",
       "       [0.48727832, 0.51272168],\n",
       "       [0.48724069, 0.51275931],\n",
       "       [0.48761054, 0.51238946],\n",
       "       [0.48753244, 0.51246756],\n",
       "       [0.48747668, 0.51252332],\n",
       "       [0.48710749, 0.51289251],\n",
       "       [0.48817474, 0.51182526],\n",
       "       [0.48757098, 0.51242902],\n",
       "       [0.4873655 , 0.5126345 ],\n",
       "       [0.48789411, 0.51210589],\n",
       "       [0.48749781, 0.51250219],\n",
       "       [0.48683604, 0.51316396],\n",
       "       [0.48749921, 0.51250079],\n",
       "       [0.48690262, 0.51309738],\n",
       "       [0.48728565, 0.51271435],\n",
       "       [0.48792322, 0.51207678],\n",
       "       [0.48761732, 0.51238268],\n",
       "       [0.48739186, 0.51260814],\n",
       "       [0.48690105, 0.51309895],\n",
       "       [0.48747966, 0.51252034],\n",
       "       [0.48750817, 0.51249183],\n",
       "       [0.48749892, 0.51250108],\n",
       "       [0.4874145 , 0.5125855 ],\n",
       "       [0.48820468, 0.51179532],\n",
       "       [0.48685218, 0.51314782],\n",
       "       [0.48740367, 0.51259633],\n",
       "       [0.48687754, 0.51312246],\n",
       "       [0.48744252, 0.51255748],\n",
       "       [0.48765601, 0.51234399],\n",
       "       [0.48741667, 0.51258333]])"
      ]
     },
     "execution_count": 36,
     "metadata": {},
     "output_type": "execute_result"
    }
   ],
   "source": [
    "clf_circles.predict_proba(X_test)"
   ]
  },
  {
   "cell_type": "code",
   "execution_count": 37,
   "metadata": {
    "pycharm": {
     "name": "#%%\n"
    }
   },
   "outputs": [
    {
     "data": {
      "text/plain": [
       "array([[0.48756487, 0.51243513],\n",
       "       [0.48692224, 0.51307776],\n",
       "       [0.48749624, 0.51250376],\n",
       "       [0.48690995, 0.51309005],\n",
       "       [0.48753729, 0.51246271],\n",
       "       [0.48744631, 0.51255369],\n",
       "       [0.48744668, 0.51255332],\n",
       "       [0.48810528, 0.51189472],\n",
       "       [0.48800303, 0.51199697],\n",
       "       [0.48760701, 0.51239299],\n",
       "       [0.48740751, 0.51259249],\n",
       "       [0.4869224 , 0.5130776 ],\n",
       "       [0.48747588, 0.51252412],\n",
       "       [0.48808096, 0.51191904],\n",
       "       [0.48758707, 0.51241293],\n",
       "       [0.48807784, 0.51192216],\n",
       "       [0.48743092, 0.51256908],\n",
       "       [0.48792388, 0.51207612],\n",
       "       [0.48765754, 0.51234246],\n",
       "       [0.4876646 , 0.5123354 ],\n",
       "       [0.48796881, 0.51203119],\n",
       "       [0.48698662, 0.51301338],\n",
       "       [0.48743518, 0.51256482],\n",
       "       [0.48764194, 0.51235806],\n",
       "       [0.48748398, 0.51251602],\n",
       "       [0.48795039, 0.51204961],\n",
       "       [0.48734433, 0.51265567],\n",
       "       [0.48760174, 0.51239826],\n",
       "       [0.48750107, 0.51249893],\n",
       "       [0.48739004, 0.51260996],\n",
       "       [0.48719585, 0.51280415],\n",
       "       [0.48761809, 0.51238191],\n",
       "       [0.4875886 , 0.5124114 ],\n",
       "       [0.48693399, 0.51306601],\n",
       "       [0.48750029, 0.51249971],\n",
       "       [0.48780958, 0.51219042],\n",
       "       [0.48755415, 0.51244585],\n",
       "       [0.48754869, 0.51245131],\n",
       "       [0.48754757, 0.51245243],\n",
       "       [0.48751725, 0.51248275],\n",
       "       [0.48757874, 0.51242126],\n",
       "       [0.48800045, 0.51199955],\n",
       "       [0.48738542, 0.51261458],\n",
       "       [0.4875047 , 0.5124953 ],\n",
       "       [0.48759137, 0.51240863],\n",
       "       [0.48799371, 0.51200629],\n",
       "       [0.4874672 , 0.5125328 ],\n",
       "       [0.48762816, 0.51237184],\n",
       "       [0.48808002, 0.51191998],\n",
       "       [0.48756269, 0.51243731],\n",
       "       [0.48760203, 0.51239797],\n",
       "       [0.48823262, 0.51176738],\n",
       "       [0.48744374, 0.51255626],\n",
       "       [0.48672266, 0.51327734],\n",
       "       [0.48765272, 0.51234728],\n",
       "       [0.48742317, 0.51257683],\n",
       "       [0.48761177, 0.51238823],\n",
       "       [0.48736612, 0.51263388],\n",
       "       [0.48819265, 0.51180735],\n",
       "       [0.48762439, 0.51237561],\n",
       "       [0.4867923 , 0.5132077 ],\n",
       "       [0.48746813, 0.51253187],\n",
       "       [0.48671241, 0.51328759],\n",
       "       [0.48734795, 0.51265205],\n",
       "       [0.48748966, 0.51251034],\n",
       "       [0.48736548, 0.51263452],\n",
       "       [0.48818129, 0.51181871],\n",
       "       [0.48670202, 0.51329798],\n",
       "       [0.48747589, 0.51252411],\n",
       "       [0.48719752, 0.51280248],\n",
       "       [0.487403  , 0.512597  ],\n",
       "       [0.48757063, 0.51242937],\n",
       "       [0.4868089 , 0.5131911 ],\n",
       "       [0.48715016, 0.51284984],\n",
       "       [0.48753117, 0.51246883],\n",
       "       [0.48770266, 0.51229734],\n",
       "       [0.48787697, 0.51212303],\n",
       "       [0.48751756, 0.51248244],\n",
       "       [0.48742334, 0.51257666],\n",
       "       [0.48748035, 0.51251965],\n",
       "       [0.48745626, 0.51254374],\n",
       "       [0.487529  , 0.512471  ],\n",
       "       [0.48738878, 0.51261122],\n",
       "       [0.48797341, 0.51202659],\n",
       "       [0.48774059, 0.51225941],\n",
       "       [0.4873325 , 0.5126675 ],\n",
       "       [0.48762063, 0.51237937],\n",
       "       [0.4872081 , 0.5127919 ],\n",
       "       [0.48768479, 0.51231521],\n",
       "       [0.48753909, 0.51246091],\n",
       "       [0.48737206, 0.51262794],\n",
       "       [0.48749601, 0.51250399],\n",
       "       [0.48807319, 0.51192681],\n",
       "       [0.48758755, 0.51241245],\n",
       "       [0.4875269 , 0.5124731 ],\n",
       "       [0.48742325, 0.51257675],\n",
       "       [0.48792155, 0.51207845],\n",
       "       [0.48678263, 0.51321737],\n",
       "       [0.48789509, 0.51210491],\n",
       "       [0.48803339, 0.51196661],\n",
       "       [0.4873406 , 0.5126594 ],\n",
       "       [0.4874278 , 0.5125722 ],\n",
       "       [0.48746428, 0.51253572],\n",
       "       [0.48753778, 0.51246222],\n",
       "       [0.48691831, 0.51308169],\n",
       "       [0.48816943, 0.51183057],\n",
       "       [0.48711293, 0.51288707],\n",
       "       [0.48714205, 0.51285795],\n",
       "       [0.48751788, 0.51248212],\n",
       "       [0.48752215, 0.51247785],\n",
       "       [0.48744154, 0.51255846],\n",
       "       [0.48675851, 0.51324149],\n",
       "       [0.48717234, 0.51282766],\n",
       "       [0.48758716, 0.51241284],\n",
       "       [0.48676994, 0.51323006],\n",
       "       [0.48744631, 0.51255369],\n",
       "       [0.48690818, 0.51309182],\n",
       "       [0.48751883, 0.51248117],\n",
       "       [0.48741008, 0.51258992],\n",
       "       [0.48696603, 0.51303397],\n",
       "       [0.48752904, 0.51247096],\n",
       "       [0.48784146, 0.51215854],\n",
       "       [0.48756702, 0.51243298],\n",
       "       [0.48750585, 0.51249415],\n",
       "       [0.48746812, 0.51253188],\n",
       "       [0.48733175, 0.51266825],\n",
       "       [0.4874451 , 0.5125549 ],\n",
       "       [0.48751048, 0.51248952],\n",
       "       [0.48817387, 0.51182613],\n",
       "       [0.48701492, 0.51298508],\n",
       "       [0.48779247, 0.51220753],\n",
       "       [0.48740737, 0.51259263],\n",
       "       [0.48811913, 0.51188087],\n",
       "       [0.4868431 , 0.5131569 ],\n",
       "       [0.48737396, 0.51262604],\n",
       "       [0.48759336, 0.51240664],\n",
       "       [0.48745453, 0.51254547],\n",
       "       [0.48806891, 0.51193109],\n",
       "       [0.48714561, 0.51285439],\n",
       "       [0.48748038, 0.51251962],\n",
       "       [0.48701004, 0.51298996],\n",
       "       [0.4867602 , 0.5132398 ],\n",
       "       [0.48676466, 0.51323534],\n",
       "       [0.4874626 , 0.5125374 ],\n",
       "       [0.4870989 , 0.5129011 ],\n",
       "       [0.48758496, 0.51241504],\n",
       "       [0.48751018, 0.51248982],\n",
       "       [0.48709936, 0.51290064],\n",
       "       [0.4875364 , 0.5124636 ],\n",
       "       [0.4876151 , 0.5123849 ],\n",
       "       [0.48745479, 0.51254521],\n",
       "       [0.48723678, 0.51276322],\n",
       "       [0.48711495, 0.51288505],\n",
       "       [0.4870897 , 0.5129103 ],\n",
       "       [0.48776427, 0.51223573],\n",
       "       [0.4870475 , 0.5129525 ],\n",
       "       [0.48735761, 0.51264239],\n",
       "       [0.48762459, 0.51237541],\n",
       "       [0.48686507, 0.51313493],\n",
       "       [0.48754388, 0.51245612],\n",
       "       [0.48744937, 0.51255063],\n",
       "       [0.48748883, 0.51251117],\n",
       "       [0.48783313, 0.51216687],\n",
       "       [0.48741619, 0.51258381],\n",
       "       [0.48802965, 0.51197035],\n",
       "       [0.48727326, 0.51272674],\n",
       "       [0.48760617, 0.51239383],\n",
       "       [0.4873808 , 0.5126192 ],\n",
       "       [0.48758317, 0.51241683],\n",
       "       [0.48688571, 0.51311429],\n",
       "       [0.4874849 , 0.5125151 ],\n",
       "       [0.48763187, 0.51236813],\n",
       "       [0.48771032, 0.51228968],\n",
       "       [0.48749273, 0.51250727],\n",
       "       [0.48731618, 0.51268382],\n",
       "       [0.48746435, 0.51253565],\n",
       "       [0.48742276, 0.51257724],\n",
       "       [0.48692974, 0.51307026],\n",
       "       [0.48717543, 0.51282457],\n",
       "       [0.48756406, 0.51243594],\n",
       "       [0.4881505 , 0.5118495 ],\n",
       "       [0.48738069, 0.51261931],\n",
       "       [0.48796719, 0.51203281],\n",
       "       [0.48809156, 0.51190844],\n",
       "       [0.48789409, 0.51210591],\n",
       "       [0.48817554, 0.51182446],\n",
       "       [0.4867797 , 0.5132203 ],\n",
       "       [0.48744529, 0.51255471],\n",
       "       [0.48819835, 0.51180165],\n",
       "       [0.4874745 , 0.5125255 ],\n",
       "       [0.48721616, 0.51278384],\n",
       "       [0.48744348, 0.51255652],\n",
       "       [0.48693472, 0.51306528],\n",
       "       [0.48732563, 0.51267437],\n",
       "       [0.48745656, 0.51254344],\n",
       "       [0.48684127, 0.51315873],\n",
       "       [0.48759413, 0.51240587],\n",
       "       [0.48748009, 0.51251991],\n",
       "       [0.48739322, 0.51260678],\n",
       "       [0.48711714, 0.51288286],\n",
       "       [0.48676432, 0.51323568],\n",
       "       [0.48702828, 0.51297172],\n",
       "       [0.48803862, 0.51196138],\n",
       "       [0.48754267, 0.51245733],\n",
       "       [0.48743794, 0.51256206],\n",
       "       [0.48818636, 0.51181364],\n",
       "       [0.48791467, 0.51208533],\n",
       "       [0.48763532, 0.51236468],\n",
       "       [0.48736088, 0.51263912],\n",
       "       [0.48745204, 0.51254796],\n",
       "       [0.48762663, 0.51237337],\n",
       "       [0.48742926, 0.51257074],\n",
       "       [0.48709434, 0.51290566],\n",
       "       [0.48714819, 0.51285181],\n",
       "       [0.48796693, 0.51203307],\n",
       "       [0.48759425, 0.51240575],\n",
       "       [0.48765267, 0.51234733],\n",
       "       [0.48758874, 0.51241126],\n",
       "       [0.4878895 , 0.5121105 ],\n",
       "       [0.48773089, 0.51226911],\n",
       "       [0.48768805, 0.51231195],\n",
       "       [0.48812416, 0.51187584],\n",
       "       [0.48756097, 0.51243903],\n",
       "       [0.48812369, 0.51187631],\n",
       "       [0.48710288, 0.51289712],\n",
       "       [0.48756584, 0.51243416],\n",
       "       [0.4867992 , 0.5132008 ],\n",
       "       [0.48730698, 0.51269302],\n",
       "       [0.4873778 , 0.5126222 ],\n",
       "       [0.48679064, 0.51320936],\n",
       "       [0.48722262, 0.51277738],\n",
       "       [0.48742925, 0.51257075],\n",
       "       [0.48743293, 0.51256707],\n",
       "       [0.48746976, 0.51253024],\n",
       "       [0.4878802 , 0.5121198 ],\n",
       "       [0.48824204, 0.51175796],\n",
       "       [0.48748708, 0.51251292],\n",
       "       [0.48779486, 0.51220514],\n",
       "       [0.48774365, 0.51225635],\n",
       "       [0.48803222, 0.51196778],\n",
       "       [0.48747041, 0.51252959],\n",
       "       [0.48745213, 0.51254787],\n",
       "       [0.4879652 , 0.5120348 ],\n",
       "       [0.48750701, 0.51249299],\n",
       "       [0.48789499, 0.51210501],\n",
       "       [0.48750603, 0.51249397],\n",
       "       [0.48767347, 0.51232653],\n",
       "       [0.48761959, 0.51238041],\n",
       "       [0.48729537, 0.51270463],\n",
       "       [0.48787208, 0.51212792],\n",
       "       [0.48772306, 0.51227694],\n",
       "       [0.48755265, 0.51244735],\n",
       "       [0.48736317, 0.51263683],\n",
       "       [0.48724191, 0.51275809],\n",
       "       [0.48747784, 0.51252216],\n",
       "       [0.4876198 , 0.5123802 ],\n",
       "       [0.48749143, 0.51250857],\n",
       "       [0.48762808, 0.51237192],\n",
       "       [0.48746374, 0.51253626],\n",
       "       [0.48807972, 0.51192028],\n",
       "       [0.48733376, 0.51266624],\n",
       "       [0.48745207, 0.51254793],\n",
       "       [0.48741033, 0.51258967],\n",
       "       [0.48751458, 0.51248542],\n",
       "       [0.4872463 , 0.5127537 ],\n",
       "       [0.48738513, 0.51261487],\n",
       "       [0.48733657, 0.51266343],\n",
       "       [0.48689856, 0.51310144],\n",
       "       [0.48744611, 0.51255389],\n",
       "       [0.48749634, 0.51250366],\n",
       "       [0.48736757, 0.51263243],\n",
       "       [0.48735525, 0.51264475],\n",
       "       [0.48748736, 0.51251264],\n",
       "       [0.48746382, 0.51253618],\n",
       "       [0.48752204, 0.51247796],\n",
       "       [0.48734713, 0.51265287],\n",
       "       [0.4880907 , 0.5119093 ],\n",
       "       [0.48733076, 0.51266924],\n",
       "       [0.4876101 , 0.5123899 ],\n",
       "       [0.48780353, 0.51219647],\n",
       "       [0.48816986, 0.51183014],\n",
       "       [0.48756369, 0.51243631],\n",
       "       [0.48750167, 0.51249833],\n",
       "       [0.4881848 , 0.5118152 ],\n",
       "       [0.48745569, 0.51254431],\n",
       "       [0.48752641, 0.51247359],\n",
       "       [0.48822603, 0.51177397],\n",
       "       [0.4873979 , 0.5126021 ],\n",
       "       [0.48744849, 0.51255151],\n",
       "       [0.48761541, 0.51238459],\n",
       "       [0.48682891, 0.51317109],\n",
       "       [0.48743711, 0.51256289],\n",
       "       [0.48689033, 0.51310967],\n",
       "       [0.48746557, 0.51253443],\n",
       "       [0.48782379, 0.51217621],\n",
       "       [0.48788083, 0.51211917],\n",
       "       [0.48763129, 0.51236871],\n",
       "       [0.48754232, 0.51245768],\n",
       "       [0.48754043, 0.51245957],\n",
       "       [0.48753145, 0.51246855],\n",
       "       [0.48798523, 0.51201477],\n",
       "       [0.48718438, 0.51281562],\n",
       "       [0.48763605, 0.51236395],\n",
       "       [0.48803184, 0.51196816],\n",
       "       [0.48746303, 0.51253697],\n",
       "       [0.48750013, 0.51249987],\n",
       "       [0.48754321, 0.51245679],\n",
       "       [0.48765848, 0.51234152],\n",
       "       [0.48759877, 0.51240123],\n",
       "       [0.4868941 , 0.5131059 ],\n",
       "       [0.48741242, 0.51258758],\n",
       "       [0.48760181, 0.51239819],\n",
       "       [0.48757873, 0.51242127],\n",
       "       [0.48764058, 0.51235942],\n",
       "       [0.48807204, 0.51192796],\n",
       "       [0.48777803, 0.51222197],\n",
       "       [0.48725725, 0.51274275],\n",
       "       [0.48750191, 0.51249809],\n",
       "       [0.48757276, 0.51242724],\n",
       "       [0.48693422, 0.51306578],\n",
       "       [0.48740003, 0.51259997],\n",
       "       [0.4876535 , 0.5123465 ],\n",
       "       [0.48762583, 0.51237417],\n",
       "       [0.4880201 , 0.5119799 ],\n",
       "       [0.48743969, 0.51256031],\n",
       "       [0.4881182 , 0.5118818 ],\n",
       "       [0.48821844, 0.51178156],\n",
       "       [0.48729214, 0.51270786],\n",
       "       [0.48736563, 0.51263437],\n",
       "       [0.48822982, 0.51177018],\n",
       "       [0.48675774, 0.51324226],\n",
       "       [0.48743421, 0.51256579],\n",
       "       [0.48738781, 0.51261219],\n",
       "       [0.48752077, 0.51247923],\n",
       "       [0.48760992, 0.51239008],\n",
       "       [0.4874719 , 0.5125281 ],\n",
       "       [0.48690408, 0.51309592],\n",
       "       [0.48744709, 0.51255291],\n",
       "       [0.48759068, 0.51240932],\n",
       "       [0.48740043, 0.51259957],\n",
       "       [0.48688949, 0.51311051],\n",
       "       [0.48777856, 0.51222144],\n",
       "       [0.48816222, 0.51183778],\n",
       "       [0.48683748, 0.51316252],\n",
       "       [0.48684936, 0.51315064],\n",
       "       [0.48683419, 0.51316581],\n",
       "       [0.48806624, 0.51193376],\n",
       "       [0.48688866, 0.51311134],\n",
       "       [0.4874151 , 0.5125849 ],\n",
       "       [0.48737529, 0.51262471],\n",
       "       [0.48683307, 0.51316693],\n",
       "       [0.48744671, 0.51255329],\n",
       "       [0.48744739, 0.51255261],\n",
       "       [0.48766955, 0.51233045],\n",
       "       [0.48746095, 0.51253905],\n",
       "       [0.48742033, 0.51257967],\n",
       "       [0.48755384, 0.51244616],\n",
       "       [0.48747472, 0.51252528],\n",
       "       [0.48815526, 0.51184474],\n",
       "       [0.4877321 , 0.5122679 ],\n",
       "       [0.48691675, 0.51308325],\n",
       "       [0.48758311, 0.51241689],\n",
       "       [0.4875855 , 0.5124145 ],\n",
       "       [0.48735162, 0.51264838],\n",
       "       [0.48748211, 0.51251789],\n",
       "       [0.48738531, 0.51261469],\n",
       "       [0.48677053, 0.51322947],\n",
       "       [0.48739795, 0.51260205],\n",
       "       [0.48720537, 0.51279463],\n",
       "       [0.48734517, 0.51265483],\n",
       "       [0.48761654, 0.51238346],\n",
       "       [0.48813658, 0.51186342],\n",
       "       [0.48752168, 0.51247832],\n",
       "       [0.4870679 , 0.5129321 ],\n",
       "       [0.48710319, 0.51289681],\n",
       "       [0.48754036, 0.51245964],\n",
       "       [0.48743293, 0.51256707],\n",
       "       [0.48739534, 0.51260466],\n",
       "       [0.48779381, 0.51220619],\n",
       "       [0.48707169, 0.51292831],\n",
       "       [0.48761144, 0.51238856],\n",
       "       [0.48753588, 0.51246412],\n",
       "       [0.48751708, 0.51248292],\n",
       "       [0.48819243, 0.51180757],\n",
       "       [0.48746099, 0.51253901],\n",
       "       [0.48819996, 0.51180004],\n",
       "       [0.48760099, 0.51239901],\n",
       "       [0.48715849, 0.51284151],\n",
       "       [0.48757286, 0.51242714],\n",
       "       [0.4882228 , 0.5117772 ],\n",
       "       [0.48752372, 0.51247628],\n",
       "       [0.48744802, 0.51255198],\n",
       "       [0.48756137, 0.51243863],\n",
       "       [0.48816336, 0.51183664],\n",
       "       [0.48765483, 0.51234517],\n",
       "       [0.48691459, 0.51308541],\n",
       "       [0.48751032, 0.51248968],\n",
       "       [0.48802703, 0.51197297],\n",
       "       [0.48744404, 0.51255596],\n",
       "       [0.48756792, 0.51243208]])"
      ]
     },
     "execution_count": 37,
     "metadata": {},
     "output_type": "execute_result"
    }
   ],
   "source": [
    "clf_circles.predict_proba(X_train)"
   ]
  },
  {
   "cell_type": "markdown",
   "metadata": {},
   "source": [
    "Критерії якості"
   ]
  },
  {
   "cell_type": "code",
   "execution_count": 38,
   "metadata": {
    "pycharm": {
     "name": "#%%\n"
    }
   },
   "outputs": [
    {
     "data": {
      "text/plain": [
       "array([[  0, 195],\n",
       "       [  0, 205]])"
      ]
     },
     "execution_count": 38,
     "metadata": {},
     "output_type": "execute_result"
    }
   ],
   "source": [
    "confusion_matrix(y_train, clf_circles.predict(X_train))"
   ]
  },
  {
   "cell_type": "code",
   "execution_count": 39,
   "metadata": {
    "pycharm": {
     "name": "#%%\n"
    }
   },
   "outputs": [
    {
     "data": {
      "text/plain": [
       "array([[ 0, 55],\n",
       "       [ 0, 45]])"
      ]
     },
     "execution_count": 39,
     "metadata": {},
     "output_type": "execute_result"
    }
   ],
   "source": [
    "confusion_matrix(y_test, clf_circles.predict(X_test))"
   ]
  },
  {
   "cell_type": "code",
   "execution_count": 40,
   "metadata": {
    "pycharm": {
     "name": "#%%\n"
    }
   },
   "outputs": [
    {
     "data": {
      "text/plain": [
       "0.6776859504132231"
      ]
     },
     "execution_count": 40,
     "metadata": {},
     "output_type": "execute_result"
    }
   ],
   "source": [
    "f1_score(y_train, clf_circles.predict(X_train))"
   ]
  },
  {
   "cell_type": "code",
   "execution_count": 41,
   "metadata": {
    "pycharm": {
     "name": "#%%\n"
    }
   },
   "outputs": [
    {
     "data": {
      "text/plain": [
       "0.6206896551724138"
      ]
     },
     "execution_count": 41,
     "metadata": {},
     "output_type": "execute_result"
    }
   ],
   "source": [
    "f1_score(y_test, clf_circles.predict(X_test))"
   ]
  },
  {
   "cell_type": "code",
   "execution_count": 42,
   "metadata": {
    "pycharm": {
     "name": "#%%\n"
    }
   },
   "outputs": [
    {
     "data": {
      "text/plain": [
       "0.5125"
      ]
     },
     "execution_count": 42,
     "metadata": {},
     "output_type": "execute_result"
    }
   ],
   "source": [
    "accuracy_score(y_train, clf_circles.predict(X_train))"
   ]
  },
  {
   "cell_type": "code",
   "execution_count": 43,
   "metadata": {
    "pycharm": {
     "name": "#%%\n"
    }
   },
   "outputs": [
    {
     "data": {
      "text/plain": [
       "0.45"
      ]
     },
     "execution_count": 43,
     "metadata": {},
     "output_type": "execute_result"
    }
   ],
   "source": [
    "accuracy_score(y_test, clf_circles.predict(X_test))"
   ]
  },
  {
   "cell_type": "code",
   "execution_count": 44,
   "metadata": {
    "pycharm": {
     "name": "#%%\n"
    }
   },
   "outputs": [
    {
     "data": {
      "text/plain": [
       "0.5125"
      ]
     },
     "execution_count": 44,
     "metadata": {},
     "output_type": "execute_result"
    }
   ],
   "source": [
    "precision_score(y_train, clf_circles.predict(X_train))"
   ]
  },
  {
   "cell_type": "code",
   "execution_count": 45,
   "metadata": {
    "pycharm": {
     "name": "#%%\n"
    }
   },
   "outputs": [
    {
     "data": {
      "text/plain": [
       "0.45"
      ]
     },
     "execution_count": 45,
     "metadata": {},
     "output_type": "execute_result"
    }
   ],
   "source": [
    "precision_score(y_test, clf_circles.predict(X_test))"
   ]
  },
  {
   "cell_type": "code",
   "execution_count": 46,
   "metadata": {
    "pycharm": {
     "name": "#%%\n"
    }
   },
   "outputs": [
    {
     "data": {
      "text/plain": [
       "1.0"
      ]
     },
     "execution_count": 46,
     "metadata": {},
     "output_type": "execute_result"
    }
   ],
   "source": [
    "recall_score(y_train, clf_circles.predict(X_train))"
   ]
  },
  {
   "cell_type": "code",
   "execution_count": 47,
   "metadata": {
    "pycharm": {
     "name": "#%%\n"
    }
   },
   "outputs": [
    {
     "data": {
      "text/plain": [
       "1.0"
      ]
     },
     "execution_count": 47,
     "metadata": {},
     "output_type": "execute_result"
    }
   ],
   "source": [
    "recall_score(y_test, clf_circles.predict(X_test))"
   ]
  },
  {
   "cell_type": "markdown",
   "metadata": {},
   "source": [
    "Границi рiшень. Оскільки за допомогою LogisticRegression не можна побудувати нелінійні границі рішень, то було використано GaussianNB estimator."
   ]
  },
  {
   "cell_type": "code",
   "execution_count": 48,
   "metadata": {
    "pycharm": {
     "name": "#%%\n"
    }
   },
   "outputs": [
    {
     "data": {
      "image/png": "[encoded data removed]",
      "text/plain": [
       "<Figure size 648x468 with 1 Axes>"
      ]
     },
     "metadata": {},
     "output_type": "display_data"
    }
   ],
   "source": [
    "def decision_boundaries(X, target):\n",
    "    estimator = GaussianNB().fit(X, target)\n",
    "    h = 0.01\n",
    "\n",
    "    x_min, x_max = X[:, 0].min() - 0.5, X[:, 0].max() + 0.5\n",
    "    y_min, y_max = X[:, 1].min() - 0.5, X[:, 1].max() + 0.5\n",
    "\n",
    "    xx, yy = np.meshgrid(np.arange(x_min, x_max, h), np.arange(y_min, y_max, h))\n",
    "    Z = estimator.predict(np.c_[xx.ravel(), yy.ravel()])\n",
    "\n",
    "    Z = Z.reshape(xx.shape)\n",
    "    plt.figure(1, figsize=(9, 6.5))\n",
    "    plt.pcolormesh(xx, yy, Z, cmap=\"Blues\")\n",
    "\n",
    "    plt.scatter(X[:, 0], X[:, 1], c=target, edgecolors=\"k\", cmap=\"Blues\")\n",
    "    plt.xlabel(\"feature_1\")\n",
    "    plt.ylabel(\"feature_2\")\n",
    "\n",
    "    plt.grid()\n",
    "\n",
    "    plt.xlim(xx.min(), xx.max())\n",
    "    plt.ylim(yy.min(), yy.max())\n",
    "    plt.xticks(())\n",
    "    plt.yticks(())\n",
    "    plt.show()\n",
    "\n",
    "decision_boundaries(X, y)"
   ]
  },
  {
   "cell_type": "markdown",
   "metadata": {},
   "source": [
    "PR-curve"
   ]
  },
  {
   "cell_type": "code",
   "execution_count": 49,
   "metadata": {
    "pycharm": {
     "name": "#%%\n"
    }
   },
   "outputs": [
    {
     "data": {
      "text/plain": [
       "<sklearn.metrics._plot.precision_recall_curve.PrecisionRecallDisplay at 0x7f6dce971e80>"
      ]
     },
     "execution_count": 49,
     "metadata": {},
     "output_type": "execute_result"
    },
    {
     "data": {
      "image/png": "[encoded data removed]",
      "text/plain": [
       "<Figure size 432x288 with 1 Axes>"
      ]
     },
     "metadata": {
      "needs_background": "light"
     },
     "output_type": "display_data"
    }
   ],
   "source": [
    "PrecisionRecallDisplay.from_estimator(clf_circles, X, y)"
   ]
  },
  {
   "cell_type": "markdown",
   "metadata": {},
   "source": [
    "ROC-curve"
   ]
  },
  {
   "cell_type": "code",
   "execution_count": 50,
   "metadata": {
    "pycharm": {
     "name": "#%%\n"
    }
   },
   "outputs": [
    {
     "data": {
      "text/plain": [
       "<sklearn.metrics._plot.roc_curve.RocCurveDisplay at 0x7f6e0c098a60>"
      ]
     },
     "execution_count": 50,
     "metadata": {},
     "output_type": "execute_result"
    },
    {
     "data": {
      "image/png": "[encoded data removed]",
      "text/plain": [
       "<Figure size 432x288 with 1 Axes>"
      ]
     },
     "metadata": {
      "needs_background": "light"
     },
     "output_type": "display_data"
    }
   ],
   "source": [
    "RocCurveDisplay.from_estimator(clf_circles, X, y)"
   ]
  },
  {
   "cell_type": "markdown",
   "metadata": {},
   "source": [
    "Використовуємо уже написаний метод для пошуку параметра С моделі"
   ]
  },
  {
   "cell_type": "code",
   "execution_count": 51,
   "metadata": {
    "pycharm": {
     "name": "#%%\n"
    }
   },
   "outputs": [
    {
     "data": {
      "text/plain": [
       "10.0"
      ]
     },
     "execution_count": 51,
     "metadata": {},
     "output_type": "execute_result"
    }
   ],
   "source": [
    "grid_search_c(clf_circles)"
   ]
  },
  {
   "cell_type": "markdown",
   "metadata": {
    "pycharm": {
     "name": "#%% md\n"
    }
   },
   "source": [
    "### Висновки\n",
    "Під час виконання роботи було досліджено два датасети та побудовано моделі LogisticRegression на основі цих даних. Було зроблено необхідні ілюстрації, наведено пояснення та проведено аналіз поведінки моделей. Оскільки регуляризація моделі визначається лише гіперпараметр penalty (в нашому випадку l2 або none), то код не було продубльовано з метою збереження лаконічності та компактності програми."
   ]
  }
 ],
 "metadata": {
  "kernelspec": {
   "display_name": "Python 3",
   "language": "python",
   "name": "python3"
  },
  "language_info": {
   "codemirror_mode": {
    "name": "ipython",
    "version": 3
   },
   "file_extension": ".py",
   "mimetype": "text/x-python",
   "name": "python",
   "nbconvert_exporter": "python",
   "pygments_lexer": "ipython3",
   "version": "3.8.10"
  }
 },
 "nbformat": 4,
 "nbformat_minor": 1
}
